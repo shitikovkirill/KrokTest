{
 "cells": [
  {
   "cell_type": "markdown",
   "metadata": {},
   "source": [
    "# Python Performance Tips and Tricks"
   ]
  },
  {
   "cell_type": "code",
   "execution_count": 141,
   "metadata": {
    "collapsed": true
   },
   "outputs": [],
   "source": [
    "import time"
   ]
  },
  {
   "cell_type": "code",
   "execution_count": 142,
   "metadata": {},
   "outputs": [
    {
     "name": "stdout",
     "output_type": "stream",
     "text": [
      "'Result is'  0.11 msec\n"
     ]
    }
   ],
   "source": [
    "ts = time.time()\n",
    "\n",
    "#------------------------------\n",
    "def ultimate_answer_to_life():\n",
    "    return 42\n",
    "ultimate_answer_to_life()\n",
    "#------------------------------\n",
    "\n",
    "te = time.time()\n",
    "\n",
    "result1 = te - ts\n",
    "print('%r  %2.2f msec' % (\"Result is\", result1*1000))"
   ]
  },
  {
   "cell_type": "code",
   "execution_count": 143,
   "metadata": {
    "collapsed": true
   },
   "outputs": [],
   "source": [
    "def get_change(current, previous, round_value=1):\n",
    "    if current == previous:\n",
    "        print(\"Results are equals \")\n",
    "    try:\n",
    "        print(\"This code are {} times faster\".format(round(previous / current, round_value)))\n",
    "    except ZeroDivisionError:\n",
    "        print(\"Seems that there is first result a equal zero\")"
   ]
  },
  {
   "cell_type": "code",
   "execution_count": 144,
   "metadata": {},
   "outputs": [
    {
     "name": "stdout",
     "output_type": "stream",
     "text": [
      "'Result is'  0.31 msec\n"
     ]
    }
   ],
   "source": [
    "ts = time.time()\n",
    "\n",
    "#------------------------------\n",
    "def ultimate_answer_to_life():\n",
    "    time.sleep(0.00001)\n",
    "    return 42\n",
    "#------------------------------\n",
    "\n",
    "\n",
    "ultimate_answer_to_life()\n",
    "te = time.time()\n",
    "\n",
    "result2 = te - ts\n",
    "print('%r  %2.2f msec' % (\"Result is\", result2*1000))"
   ]
  },
  {
   "cell_type": "code",
   "execution_count": 145,
   "metadata": {},
   "outputs": [
    {
     "name": "stdout",
     "output_type": "stream",
     "text": [
      "This code are 2.9 times faster\n"
     ]
    }
   ],
   "source": [
    "get_change(result1, result2)"
   ]
  },
  {
   "cell_type": "markdown",
   "metadata": {},
   "source": [
    "# COUNT ELEMENTS IN A LIST"
   ]
  },
  {
   "cell_type": "code",
   "execution_count": 146,
   "metadata": {
    "collapsed": true
   },
   "outputs": [],
   "source": [
    "import random\n",
    "ELEMENTS = random.sample(range(10005000), 1000000)"
   ]
  },
  {
   "cell_type": "code",
   "execution_count": 147,
   "metadata": {},
   "outputs": [
    {
     "name": "stdout",
     "output_type": "stream",
     "text": [
      "'Result is'  119.728 msec\n"
     ]
    }
   ],
   "source": [
    "ts = time.time()\n",
    "\n",
    "\n",
    "#------------------------------\n",
    "how_many = 0\n",
    "for element in ELEMENTS:\n",
    "    how_many += 1\n",
    "te = time.time()\n",
    "#------------------------------\n",
    "\n",
    "result1 = te - ts\n",
    "print('%r  %2.3f msec' % (\"Result is\", result1*1000))"
   ]
  },
  {
   "cell_type": "code",
   "execution_count": 148,
   "metadata": {},
   "outputs": [
    {
     "name": "stdout",
     "output_type": "stream",
     "text": [
      "'Result is'  0.058 msec\n"
     ]
    }
   ],
   "source": [
    "ts = time.time()\n",
    "\n",
    "\n",
    "#------------------------------\n",
    "how_many = len(ELEMENTS)\n",
    "#------------------------------\n",
    "\n",
    "te = time.time()\n",
    "\n",
    "result2 = te - ts\n",
    "print('%r  %2.3f msec' % (\"Result is\", result2*1000))"
   ]
  },
  {
   "cell_type": "code",
   "execution_count": 149,
   "metadata": {},
   "outputs": [
    {
     "name": "stdout",
     "output_type": "stream",
     "text": [
      "This code are 2066.6 times faster\n"
     ]
    }
   ],
   "source": [
    "get_change(result2, result1)"
   ]
  },
  {
   "cell_type": "markdown",
   "metadata": {},
   "source": [
    "# FILTER A LIST"
   ]
  },
  {
   "cell_type": "code",
   "execution_count": 156,
   "metadata": {},
   "outputs": [
    {
     "name": "stdout",
     "output_type": "stream",
     "text": [
      "'Result is'  161.95822 msec\n"
     ]
    }
   ],
   "source": [
    "ts = time.time()\n",
    "\n",
    "\n",
    "#------------------------------\n",
    "output = []\n",
    "for element in ELEMENTS:\n",
    "    if element % 2:\n",
    "        output.append(element)\n",
    "#------------------------------\n",
    "\n",
    "\n",
    "te = time.time()\n",
    "\n",
    "result0 = te - ts\n",
    "print('%r  %2.5f msec' % (\"Result is\", result1*1000))"
   ]
  },
  {
   "cell_type": "code",
   "execution_count": 159,
   "metadata": {},
   "outputs": [
    {
     "name": "stdout",
     "output_type": "stream",
     "text": [
      "'Result is'  0.07701 msec\n"
     ]
    }
   ],
   "source": [
    "ts = time.time()\n",
    "\n",
    "\n",
    "#------------------------------\n",
    "[filter(lambda x: x % 2, ELEMENTS)]\n",
    "#------------------------------\n",
    "\n",
    "\n",
    "te = time.time()\n",
    "\n",
    "result1 = te - ts\n",
    "print('%r  %2.5f msec' % (\"Result is\", result1*1000))"
   ]
  },
  {
   "cell_type": "code",
   "execution_count": 160,
   "metadata": {},
   "outputs": [
    {
     "name": "stdout",
     "output_type": "stream",
     "text": [
      "'Result is'  79.37789 msec\n"
     ]
    }
   ],
   "source": [
    "ts = time.time()\n",
    "\n",
    "#------------------------------\n",
    "[item for item in ELEMENTS if item % 2]\n",
    "#------------------------------\n",
    "\n",
    "\n",
    "te = time.time()\n",
    "\n",
    "result2 = te - ts\n",
    "print('%r  %2.5f msec' % (\"Result is\", result2*1000))"
   ]
  },
  {
   "cell_type": "code",
   "execution_count": 154,
   "metadata": {},
   "outputs": [
    {
     "name": "stdout",
     "output_type": "stream",
     "text": [
      "This code are 2.0 times faster\n"
     ]
    }
   ],
   "source": [
    "get_change(result2, result1)"
   ]
  },
  {
   "cell_type": "code",
   "execution_count": 155,
   "metadata": {},
   "outputs": [
    {
     "name": "stdout",
     "output_type": "stream",
     "text": [
      "This code are 1.9 times faster\n"
     ]
    }
   ],
   "source": [
    "get_change(result2, result0)"
   ]
  },
  {
   "cell_type": "markdown",
   "metadata": {},
   "source": [
    "# PERMISSIONS OR FORGIVENESS ?"
   ]
  },
  {
   "cell_type": "code",
   "execution_count": 161,
   "metadata": {
    "collapsed": true
   },
   "outputs": [],
   "source": [
    "class Foo(object):\n",
    "    hello = 'world'\n",
    "foo = Foo()"
   ]
  },
  {
   "cell_type": "code",
   "execution_count": 162,
   "metadata": {},
   "outputs": [
    {
     "name": "stdout",
     "output_type": "stream",
     "text": [
      "'Result is'  208.75406 msec\n"
     ]
    }
   ],
   "source": [
    "ts = time.time()\n",
    "\n",
    "\n",
    "#------------------------------\n",
    "for x in range(1000000):\n",
    "    getattr(foo, 'hello', None)\n",
    "#------------------------------\n",
    "\n",
    "\n",
    "te = time.time()\n",
    "\n",
    "result1 = te - ts\n",
    "print('%r  %2.5f msec' % (\"Result is\", result1*1000))"
   ]
  },
  {
   "cell_type": "code",
   "execution_count": 163,
   "metadata": {},
   "outputs": [
    {
     "name": "stdout",
     "output_type": "stream",
     "text": [
      "'Result is'  92.43798 msec\n"
     ]
    }
   ],
   "source": [
    "ts = time.time()\n",
    "\n",
    "#------------------------------\n",
    "for x in range(1000000):\n",
    "    try:\n",
    "        foo.hello\n",
    "    except AttributeError:\n",
    "        pass\n",
    "#------------------------------\n",
    "\n",
    "\n",
    "te = time.time()\n",
    "\n",
    "result2 = te - ts\n",
    "print('%r  %2.5f msec' % (\"Result is\", result2*1000))"
   ]
  },
  {
   "cell_type": "code",
   "execution_count": 165,
   "metadata": {},
   "outputs": [
    {
     "name": "stdout",
     "output_type": "stream",
     "text": [
      "This code are 2.25831 times faster\n"
     ]
    }
   ],
   "source": [
    "get_change(result2, result1, round_value=5)"
   ]
  },
  {
   "cell_type": "code",
   "execution_count": 166,
   "metadata": {
    "collapsed": true
   },
   "outputs": [],
   "source": [
    "d = {'hello':'bump'}"
   ]
  },
  {
   "cell_type": "code",
   "execution_count": 167,
   "metadata": {
    "scrolled": true
   },
   "outputs": [
    {
     "name": "stdout",
     "output_type": "stream",
     "text": [
      "'Result is'  117.41400 msec\n"
     ]
    }
   ],
   "source": [
    "ts = time.time()\n",
    "\n",
    "\n",
    "#------------------------------\n",
    "for x in range(1000000):\n",
    "    if 'hello' in d:\n",
    "        d['hello']\n",
    "#------------------------------\n",
    "\n",
    "\n",
    "te = time.time()\n",
    "\n",
    "result1 = te - ts\n",
    "print('%r  %2.5f msec' % (\"Result is\", result1*1000))"
   ]
  },
  {
   "cell_type": "code",
   "execution_count": 168,
   "metadata": {},
   "outputs": [
    {
     "name": "stdout",
     "output_type": "stream",
     "text": [
      "'Result is'  94.63692 msec\n"
     ]
    }
   ],
   "source": [
    "ts = time.time()\n",
    "\n",
    "#------------------------------\n",
    "for x in range(1000000):\n",
    "    try:\n",
    "        d['hello']\n",
    "    except KeyError:\n",
    "        pass\n",
    "#------------------------------\n",
    "\n",
    "\n",
    "te = time.time()\n",
    "\n",
    "result2 = te - ts\n",
    "print('%r  %2.5f msec' % (\"Result is\", result2*1000))"
   ]
  },
  {
   "cell_type": "code",
   "execution_count": 169,
   "metadata": {},
   "outputs": [
    {
     "name": "stdout",
     "output_type": "stream",
     "text": [
      "This code are 1.2 times faster\n"
     ]
    }
   ],
   "source": [
    "get_change(result2, result1)"
   ]
  },
  {
   "cell_type": "code",
   "execution_count": 170,
   "metadata": {},
   "outputs": [
    {
     "name": "stdout",
     "output_type": "stream",
     "text": [
      "'Result is'  179.65794 msec\n"
     ]
    }
   ],
   "source": [
    "ts = time.time()\n",
    "\n",
    "\n",
    "#------------------------------\n",
    "for x in range(1000000):\n",
    "    d.get('hello')\n",
    "#------------------------------\n",
    "\n",
    "\n",
    "te = time.time()\n",
    "\n",
    "result1 = te - ts\n",
    "print('%r  %2.5f msec' % (\"Result is\", result1*1000))"
   ]
  },
  {
   "cell_type": "code",
   "execution_count": 171,
   "metadata": {},
   "outputs": [
    {
     "name": "stdout",
     "output_type": "stream",
     "text": [
      "This code are 1.9 times faster\n"
     ]
    }
   ],
   "source": [
    "get_change(result2, result1)"
   ]
  },
  {
   "cell_type": "code",
   "execution_count": 172,
   "metadata": {},
   "outputs": [
    {
     "name": "stdout",
     "output_type": "stream",
     "text": [
      "'Result is'  697.53480 msec\n"
     ]
    }
   ],
   "source": [
    "foo.foo = 'foo'\n",
    "foo.bar = 'bar'\n",
    "foo.baz = 'baz'\n",
    "ts = time.time()\n",
    "\n",
    "\n",
    "#------------------------------\n",
    "for x in range(1000000):\n",
    "    if (hasattr(foo, 'foo') and hasattr(foo, 'bar') and hasattr(foo, 'baz')):\n",
    "        foo.foo\n",
    "        foo.bar\n",
    "        foo.baz\n",
    "#------------------------------\n",
    "\n",
    "\n",
    "te = time.time()\n",
    "\n",
    "result1 = te - ts\n",
    "print('%r  %2.5f msec' % (\"Result is\", result1*1000))"
   ]
  },
  {
   "cell_type": "code",
   "execution_count": 173,
   "metadata": {},
   "outputs": [
    {
     "name": "stdout",
     "output_type": "stream",
     "text": [
      "'Result is'  200.16623 msec\n"
     ]
    }
   ],
   "source": [
    "ts = time.time()\n",
    "\n",
    "#------------------------------\n",
    "for x in range(1000000):\n",
    "    try:\n",
    "        foo.foo\n",
    "        foo.bar\n",
    "        foo.baz\n",
    "    except AttributeError:\n",
    "        pass\n",
    "#------------------------------\n",
    "\n",
    "\n",
    "te = time.time()\n",
    "\n",
    "result2 = te - ts\n",
    "print('%r  %2.5f msec' % (\"Result is\", result2*1000))"
   ]
  },
  {
   "cell_type": "code",
   "execution_count": 174,
   "metadata": {},
   "outputs": [
    {
     "name": "stdout",
     "output_type": "stream",
     "text": [
      "This code are 3.5 times faster\n"
     ]
    }
   ],
   "source": [
    "get_change(result2, result1)"
   ]
  },
  {
   "cell_type": "code",
   "execution_count": 175,
   "metadata": {},
   "outputs": [
    {
     "name": "stdout",
     "output_type": "stream",
     "text": [
      "'Result is'  513.23628 msec\n"
     ]
    }
   ],
   "source": [
    "class Bar(object): \n",
    "    pass\n",
    "bar = Bar()\n",
    "\n",
    "ts = time.time()\n",
    "\n",
    "\n",
    "#------------------------------\n",
    "for x in range(1000000):\n",
    "    if hasattr(bar, 'hello'): \n",
    "        bar.hello\n",
    "#------------------------------\n",
    "\n",
    "\n",
    "te = time.time()\n",
    "\n",
    "result1 = te - ts\n",
    "print('%r  %2.5f msec' % (\"Result is\", result1*1000))"
   ]
  },
  {
   "cell_type": "code",
   "execution_count": 176,
   "metadata": {},
   "outputs": [
    {
     "name": "stdout",
     "output_type": "stream",
     "text": [
      "'Result is'  624.91083 msec\n"
     ]
    }
   ],
   "source": [
    "ts = time.time()\n",
    "\n",
    "#------------------------------\n",
    "for x in range(1000000):\n",
    "    try:\n",
    "        bar.hello\n",
    "    except AttributeError: \n",
    "        pass\n",
    "#------------------------------\n",
    "\n",
    "\n",
    "te = time.time()\n",
    "\n",
    "result2 = te - ts\n",
    "print('%r  %2.5f msec' % (\"Result is\", result2*1000))"
   ]
  },
  {
   "cell_type": "code",
   "execution_count": 177,
   "metadata": {},
   "outputs": [
    {
     "name": "stdout",
     "output_type": "stream",
     "text": [
      "This code are 1.2 times faster\n"
     ]
    }
   ],
   "source": [
    "get_change(result1, result2)"
   ]
  },
  {
   "cell_type": "markdown",
   "metadata": {},
   "source": [
    "# MEMBERSHIP TESTING"
   ]
  },
  {
   "cell_type": "code",
   "execution_count": 186,
   "metadata": {},
   "outputs": [
    {
     "name": "stdout",
     "output_type": "stream",
     "text": [
      "'Result is'  28.63312 msec\n"
     ]
    }
   ],
   "source": [
    "ts = time.time()\n",
    "\n",
    "\n",
    "#------------------------------\n",
    "def check_number(number):\n",
    "    for item in ELEMENTS:\n",
    "        if item == number: \n",
    "            return True\n",
    "    return False\n",
    "check_number(500000)\n",
    "#------------------------------\n",
    "\n",
    "\n",
    "te = time.time()\n",
    "\n",
    "result1 = te - ts\n",
    "print('%r  %2.5f msec' % (\"Result is\", result1*1000))"
   ]
  },
  {
   "cell_type": "code",
   "execution_count": 188,
   "metadata": {},
   "outputs": [
    {
     "name": "stdout",
     "output_type": "stream",
     "text": [
      "'Result is'  14.45413 msec\n"
     ]
    }
   ],
   "source": [
    "ts = time.time()\n",
    "\n",
    "#------------------------------\n",
    "def check_number(number):\n",
    "    return number in ELEMENTS\n",
    "check_number(500000)\n",
    "#------------------------------\n",
    "\n",
    "\n",
    "te = time.time()\n",
    "\n",
    "result2 = te - ts\n",
    "print('%r  %2.5f msec' % (\"Result is\", result2*1000))"
   ]
  },
  {
   "cell_type": "code",
   "execution_count": 190,
   "metadata": {},
   "outputs": [
    {
     "name": "stdout",
     "output_type": "stream",
     "text": [
      "This code are 2.0 times faster\n"
     ]
    }
   ],
   "source": [
    "get_change(result2, result1)"
   ]
  },
  {
   "cell_type": "markdown",
   "metadata": {},
   "source": [
    "# REMOVE DUPLICATES"
   ]
  },
  {
   "cell_type": "code",
   "execution_count": 191,
   "metadata": {
    "collapsed": true
   },
   "outputs": [],
   "source": [
    "import random\n",
    "ELEMENTS = random.sample(range(10005000), 10000)"
   ]
  },
  {
   "cell_type": "code",
   "execution_count": 210,
   "metadata": {},
   "outputs": [
    {
     "name": "stdout",
     "output_type": "stream",
     "text": [
      "'Result is'  705.32203 msec\n"
     ]
    }
   ],
   "source": [
    "ts = time.time()\n",
    "\n",
    "\n",
    "#------------------------------\n",
    "unique = []\n",
    "for element in ELEMENTS:\n",
    "    if element not in unique: \n",
    "        unique.append(element)\n",
    "#------------------------------\n",
    "\n",
    "\n",
    "te = time.time()\n",
    "\n",
    "result1 = te - ts\n",
    "print('%r  %2.5f msec' % (\"Result is\", result1*1000))"
   ]
  },
  {
   "cell_type": "code",
   "execution_count": 211,
   "metadata": {},
   "outputs": [
    {
     "name": "stdout",
     "output_type": "stream",
     "text": [
      "'Result is'  1.35922 msec\n"
     ]
    }
   ],
   "source": [
    "ts = time.time()\n",
    "\n",
    "#------------------------------\n",
    "[*set(ELEMENTS)]\n",
    "#------------------------------\n",
    "\n",
    "\n",
    "te = time.time()\n",
    "result2 = te - ts\n",
    "print('%r  %2.5f msec' % (\"Result is\", result2*1000))"
   ]
  },
  {
   "cell_type": "code",
   "execution_count": 212,
   "metadata": {},
   "outputs": [
    {
     "name": "stdout",
     "output_type": "stream",
     "text": [
      "This code are 518.9 times faster\n"
     ]
    }
   ],
   "source": [
    "get_change(result2, result1)"
   ]
  },
  {
   "cell_type": "markdown",
   "metadata": {},
   "source": [
    "# 1000 OPERATIONS AND 1 FUNCTION"
   ]
  },
  {
   "cell_type": "code",
   "execution_count": 213,
   "metadata": {},
   "outputs": [
    {
     "name": "stdout",
     "output_type": "stream",
     "text": [
      "'Result is'  5.88012 msec\n"
     ]
    }
   ],
   "source": [
    "ts = time.time()\n",
    "\n",
    "\n",
    "#------------------------------\n",
    "def square(number): \n",
    "    return number**2\n",
    "squares = [square(i) for i in range(10000)]\n",
    "#------------------------------\n",
    "\n",
    "\n",
    "te = time.time()\n",
    "\n",
    "result1 = te - ts\n",
    "print('%r  %2.5f msec' % (\"Result is\", result1*1000))"
   ]
  },
  {
   "cell_type": "code",
   "execution_count": 214,
   "metadata": {},
   "outputs": [
    {
     "name": "stdout",
     "output_type": "stream",
     "text": [
      "'Result is'  4.49920 msec\n"
     ]
    }
   ],
   "source": [
    "ts = time.time()\n",
    "\n",
    "#------------------------------\n",
    "def compute_squares():\n",
    "    return [i**2 for i in range(10000)]\n",
    "compute_squares()\n",
    "#------------------------------\n",
    "\n",
    "\n",
    "te = time.time()\n",
    "\n",
    "result2 = te - ts\n",
    "print('%r  %2.5f msec' % (\"Result is\", result2*1000))"
   ]
  },
  {
   "cell_type": "code",
   "execution_count": 215,
   "metadata": {},
   "outputs": [
    {
     "name": "stdout",
     "output_type": "stream",
     "text": [
      "This code are 1.3 times faster\n"
     ]
    }
   ],
   "source": [
    "get_change(result2, result1)"
   ]
  },
  {
   "cell_type": "markdown",
   "metadata": {},
   "source": [
    "# CHECKING FOR TRUE"
   ]
  },
  {
   "cell_type": "code",
   "execution_count": 216,
   "metadata": {
    "collapsed": true
   },
   "outputs": [],
   "source": [
    "variable = True"
   ]
  },
  {
   "cell_type": "code",
   "execution_count": 217,
   "metadata": {},
   "outputs": [
    {
     "name": "stdout",
     "output_type": "stream",
     "text": [
      "'Result is'  83.76098 msec\n"
     ]
    }
   ],
   "source": [
    "ts = time.time()\n",
    "\n",
    "\n",
    "#------------------------------\n",
    "for x in range(1000000):\n",
    "    if variable == True:\n",
    "        pass\n",
    "#------------------------------\n",
    "\n",
    "\n",
    "te = time.time()\n",
    "\n",
    "\n",
    "result1 = te - ts\n",
    "print('%r  %2.5f msec' % (\"Result is\", result1*1000))"
   ]
  },
  {
   "cell_type": "code",
   "execution_count": 219,
   "metadata": {},
   "outputs": [
    {
     "name": "stdout",
     "output_type": "stream",
     "text": [
      "'Result is'  81.74586 msec\n"
     ]
    }
   ],
   "source": [
    "ts = time.time()\n",
    "\n",
    "#------------------------------\n",
    "for x in range(1000000):\n",
    "    if variable is True:\n",
    "        pass\n",
    "#------------------------------\n",
    "\n",
    "\n",
    "te = time.time()\n",
    "\n",
    "result2 = te - ts\n",
    "print('%r  %2.5f msec' % (\"Result is\", result2*1000))"
   ]
  },
  {
   "cell_type": "code",
   "execution_count": 220,
   "metadata": {},
   "outputs": [
    {
     "name": "stdout",
     "output_type": "stream",
     "text": [
      "This code are 1.0 times faster\n"
     ]
    }
   ],
   "source": [
    "get_change(result2, result1)"
   ]
  },
  {
   "cell_type": "code",
   "execution_count": 222,
   "metadata": {},
   "outputs": [
    {
     "name": "stdout",
     "output_type": "stream",
     "text": [
      "'Result is'  72.24607 msec\n"
     ]
    }
   ],
   "source": [
    "ts = time.time()\n",
    "\n",
    "#------------------------------\n",
    "for x in range(1000000):\n",
    "    if variable:\n",
    "        pass\n",
    "#------------------------------\n",
    "\n",
    "\n",
    "te = time.time()\n",
    "\n",
    "result3 = te - ts\n",
    "print('%r  %2.5f msec' % (\"Result is\", result3*1000))"
   ]
  },
  {
   "cell_type": "code",
   "execution_count": 223,
   "metadata": {},
   "outputs": [
    {
     "name": "stdout",
     "output_type": "stream",
     "text": [
      "This code are 1.2 times faster\n"
     ]
    }
   ],
   "source": [
    "get_change(result3, result1)"
   ]
  },
  {
   "cell_type": "markdown",
   "metadata": {},
   "source": [
    "# LIST() OR []"
   ]
  },
  {
   "cell_type": "code",
   "execution_count": 224,
   "metadata": {},
   "outputs": [
    {
     "name": "stdout",
     "output_type": "stream",
     "text": [
      "'Result is'  318.81618 msec\n"
     ]
    }
   ],
   "source": [
    "ts = time.time()\n",
    "\n",
    "my_list = (1,2,3)\n",
    "#------------------------------\n",
    "for x in range(1000000):\n",
    "    list(my_list)\n",
    "#------------------------------\n",
    "\n",
    "\n",
    "te = time.time()\n",
    "\n",
    "result1 = te - ts\n",
    "print('%r  %2.5f msec' % (\"Result is\", result1*1000))"
   ]
  },
  {
   "cell_type": "code",
   "execution_count": 225,
   "metadata": {},
   "outputs": [
    {
     "name": "stdout",
     "output_type": "stream",
     "text": [
      "'Result is'  104.44903 msec\n"
     ]
    }
   ],
   "source": [
    "ts = time.time()\n",
    "\n",
    "#------------------------------\n",
    "for x in range(1000000):\n",
    "    [1,2,3]\n",
    "#------------------------------\n",
    "\n",
    "\n",
    "te = time.time()\n",
    "\n",
    "result2 = te - ts\n",
    "print('%r  %2.5f msec' % (\"Result is\", result2*1000))"
   ]
  },
  {
   "cell_type": "code",
   "execution_count": 226,
   "metadata": {},
   "outputs": [
    {
     "name": "stdout",
     "output_type": "stream",
     "text": [
      "This code are 3.1 times faster\n"
     ]
    }
   ],
   "source": [
    "get_change(result2, result1)"
   ]
  },
  {
   "cell_type": "code",
   "execution_count": 229,
   "metadata": {},
   "outputs": [
    {
     "name": "stdout",
     "output_type": "stream",
     "text": [
      "'Result is'  227.55408 msec\n"
     ]
    }
   ],
   "source": [
    "ts = time.time()\n",
    "\n",
    "\n",
    "#------------------------------\n",
    "for x in range(1000000):\n",
    "    dict()\n",
    "#------------------------------\n",
    "\n",
    "\n",
    "te = time.time()\n",
    "\n",
    "result1 = te - ts\n",
    "print('%r  %2.5f msec' % (\"Result is\", result1*1000))"
   ]
  },
  {
   "cell_type": "code",
   "execution_count": 230,
   "metadata": {},
   "outputs": [
    {
     "name": "stdout",
     "output_type": "stream",
     "text": [
      "'Result is'  85.29091 msec\n"
     ]
    }
   ],
   "source": [
    "ts = time.time()\n",
    "\n",
    "#------------------------------\n",
    "for x in range(1000000):\n",
    "    {}\n",
    "#------------------------------\n",
    "\n",
    "\n",
    "te = time.time()\n",
    "\n",
    "result2 = te - ts\n",
    "print('%r  %2.5f msec' % (\"Result is\", result2*1000))"
   ]
  },
  {
   "cell_type": "code",
   "execution_count": 231,
   "metadata": {},
   "outputs": [
    {
     "name": "stdout",
     "output_type": "stream",
     "text": [
      "This code are 2.7 times faster\n"
     ]
    }
   ],
   "source": [
    "get_change(result2, result1)"
   ]
  },
  {
   "cell_type": "markdown",
   "metadata": {},
   "source": [
    "# DANGER ZONE"
   ]
  },
  {
   "cell_type": "code",
   "execution_count": 232,
   "metadata": {},
   "outputs": [
    {
     "name": "stdout",
     "output_type": "stream",
     "text": [
      "'Result is'  2915.91883 msec\n"
     ]
    }
   ],
   "source": [
    "ts = time.time()\n",
    "\n",
    "\n",
    "#------------------------------\n",
    "for x in range(10000000):\n",
    "    q=1 \n",
    "    w=2 \n",
    "    e=3 \n",
    "    r=4 \n",
    "    t=5 \n",
    "    y=6 \n",
    "    u=7 \n",
    "    i=8 \n",
    "    o=9 \n",
    "    p=0\n",
    "#------------------------------\n",
    "\n",
    "\n",
    "te = time.time()\n",
    "\n",
    "result1 = te - ts\n",
    "print('%r  %2.5f msec' % (\"Result is\", result1*1000))"
   ]
  },
  {
   "cell_type": "code",
   "execution_count": 233,
   "metadata": {},
   "outputs": [
    {
     "name": "stdout",
     "output_type": "stream",
     "text": [
      "'Result is'  2830.08790 msec\n"
     ]
    }
   ],
   "source": [
    "ts = time.time()\n",
    "\n",
    "#------------------------------\n",
    "for x in range(10000000):\n",
    "    q,w,e,r,t,y,u,i,o,p = 1,2,3,4,5,6,7,8,9,0\n",
    "#------------------------------\n",
    "\n",
    "\n",
    "te = time.time()\n",
    "\n",
    "result2 = te - ts\n",
    "print('%r  %2.5f msec' % (\"Result is\", result2*1000))"
   ]
  },
  {
   "cell_type": "code",
   "execution_count": 234,
   "metadata": {},
   "outputs": [
    {
     "name": "stdout",
     "output_type": "stream",
     "text": [
      "This code are 1.0 times faster\n"
     ]
    }
   ],
   "source": [
    "get_change(result2, result1)"
   ]
  },
  {
   "cell_type": "code",
   "execution_count": 235,
   "metadata": {},
   "outputs": [
    {
     "name": "stdout",
     "output_type": "stream",
     "text": [
      "'Result is'  2.49100 msec\n"
     ]
    }
   ],
   "source": [
    "ts = time.time()\n",
    "\n",
    "\n",
    "#------------------------------\n",
    "def squares(MILLION_NUMBERS): \n",
    "    output = []\n",
    "    for element in MILLION_NUMBERS: \n",
    "        output.append(element*element)\n",
    "    return output\n",
    "\n",
    "squares(ELEMENTS)\n",
    "#------------------------------\n",
    "\n",
    "\n",
    "te = time.time()\n",
    "\n",
    "result1 = te - ts\n",
    "print('%r  %2.5f msec' % (\"Result is\", result1*1000))"
   ]
  },
  {
   "cell_type": "code",
   "execution_count": 236,
   "metadata": {},
   "outputs": [
    {
     "name": "stdout",
     "output_type": "stream",
     "text": [
      "'Result is'  1.90115 msec\n"
     ]
    }
   ],
   "source": [
    "ts = time.time()\n",
    "\n",
    "#------------------------------\n",
    "def squares_faster(MILLION_NUMBERS): \n",
    "    output = []\n",
    "    append = output.append # <= !!!!!!!! for element in MILLION_NUMBERS:\n",
    "    for element in MILLION_NUMBERS: \n",
    "        append(element*element) \n",
    "    return output\n",
    "squares_faster(ELEMENTS)\n",
    "#------------------------------\n",
    "\n",
    "\n",
    "te = time.time()\n",
    "\n",
    "result2 = te - ts\n",
    "print('%r  %2.5f msec' % (\"Result is\", result2*1000))"
   ]
  },
  {
   "cell_type": "code",
   "execution_count": 237,
   "metadata": {},
   "outputs": [
    {
     "name": "stdout",
     "output_type": "stream",
     "text": [
      "This code are 1.3 times faster\n"
     ]
    }
   ],
   "source": [
    "get_change(result2, result1)"
   ]
  },
  {
   "cell_type": "markdown",
   "metadata": {},
   "source": [
    "# JSON"
   ]
  },
  {
   "cell_type": "code",
   "execution_count": 238,
   "metadata": {
    "collapsed": true
   },
   "outputs": [],
   "source": [
    "json_test = \\\n",
    "\"\"\"{\n",
    "    \"title\": \"Person\",\n",
    "    \"type\": \"object\",\n",
    "    \"properties\": {\n",
    "        \"firstName\": {\n",
    "            \"type\": \"string\"\n",
    "        },\n",
    "        \"lastName\": {\n",
    "            \"type\": \"string\"\n",
    "        },\n",
    "        \"age\": {\n",
    "            \"description\": \"Age in years\",\n",
    "            \"type\": \"integer\",\n",
    "            \"minimum\": 0\n",
    "        }\n",
    "    },\n",
    "    \"required\": [\"firstName\", \"lastName\"]\n",
    "}\"\"\""
   ]
  },
  {
   "cell_type": "code",
   "execution_count": 239,
   "metadata": {},
   "outputs": [
    {
     "name": "stdout",
     "output_type": "stream",
     "text": [
      "'Result is'  79.97918 msec\n"
     ]
    }
   ],
   "source": [
    "import json\n",
    "\n",
    "ts = time.time()\n",
    "\n",
    "\n",
    "#------------------------------\n",
    "for x in range(10000):\n",
    "    d_object =json.loads(json_test)\n",
    "#------------------------------\n",
    "\n",
    "\n",
    "te = time.time()\n",
    "\n",
    "result1 = te - ts\n",
    "print('%r  %2.5f msec' % (\"Result is\", result1*1000))"
   ]
  },
  {
   "cell_type": "code",
   "execution_count": 254,
   "metadata": {},
   "outputs": [
    {
     "name": "stdout",
     "output_type": "stream",
     "text": [
      "4507964832 4507964544\n",
      "4507966992 4507966992\n"
     ]
    }
   ],
   "source": [
    "d_obj = {'hello':'world',  'key':{'rrrr':'tttrt'}}\n",
    "\n",
    "d_obj2 = dict(d_obj)\n",
    "print(id(d_obj2), id(d_obj))\n",
    "print(id(d_obj2['key']), id(d_obj['key']))"
   ]
  },
  {
   "cell_type": "code",
   "execution_count": 241,
   "metadata": {},
   "outputs": [
    {
     "name": "stdout",
     "output_type": "stream",
     "text": [
      "'Result is'  34.23595 msec\n"
     ]
    }
   ],
   "source": [
    "import ujson\n",
    "ts = time.time()\n",
    "\n",
    "#------------------------------\n",
    "for x in range(10000):\n",
    "    d_object =ujson.loads(json_test)\n",
    "#------------------------------\n",
    "\n",
    "\n",
    "te = time.time()\n",
    "\n",
    "result2 = te - ts\n",
    "print('%r  %2.5f msec' % (\"Result is\", result2*1000))"
   ]
  },
  {
   "cell_type": "code",
   "execution_count": 242,
   "metadata": {},
   "outputs": [
    {
     "name": "stdout",
     "output_type": "stream",
     "text": [
      "This code are 2.3 times faster\n"
     ]
    }
   ],
   "source": [
    "get_change(result2, result1)"
   ]
  },
  {
   "cell_type": "markdown",
   "metadata": {},
   "source": [
    "# COPY OBJECTS"
   ]
  },
  {
   "cell_type": "code",
   "execution_count": 243,
   "metadata": {},
   "outputs": [
    {
     "name": "stdout",
     "output_type": "stream",
     "text": [
      "'Result is'  283.35738 msec\n"
     ]
    }
   ],
   "source": [
    "import copy\n",
    "\n",
    "ts = time.time()\n",
    "\n",
    "\n",
    "#------------------------------\n",
    "for x in range(10000):\n",
    "    copy.deepcopy(d_object)\n",
    "#------------------------------\n",
    "\n",
    "\n",
    "te = time.time()\n",
    "\n",
    "result1 = te - ts\n",
    "print('%r  %2.5f msec' % (\"Result is\", result1*1000))"
   ]
  },
  {
   "cell_type": "code",
   "execution_count": 244,
   "metadata": {},
   "outputs": [
    {
     "name": "stdout",
     "output_type": "stream",
     "text": [
      "'Result is'  167.30070 msec\n"
     ]
    }
   ],
   "source": [
    "import json\n",
    "ts = time.time()\n",
    "\n",
    "#------------------------------\n",
    "for x in range(10000):\n",
    "    json.loads(json.dumps(d_object))\n",
    "#------------------------------\n",
    "\n",
    "\n",
    "te = time.time()\n",
    "\n",
    "result2 = te - ts\n",
    "print('%r  %2.5f msec' % (\"Result is\", result2*1000))"
   ]
  },
  {
   "cell_type": "code",
   "execution_count": 245,
   "metadata": {},
   "outputs": [
    {
     "name": "stdout",
     "output_type": "stream",
     "text": [
      "'Result is'  58.73394 msec\n"
     ]
    }
   ],
   "source": [
    "import ujson\n",
    "ts = time.time()\n",
    "\n",
    "#------------------------------\n",
    "for x in range(10000):\n",
    "    ujson.loads(ujson.dumps(d_object))\n",
    "#------------------------------\n",
    "\n",
    "\n",
    "te = time.time()\n",
    "\n",
    "result3 = te - ts\n",
    "print('%r  %2.5f msec' % (\"Result is\", result3*1000))"
   ]
  },
  {
   "cell_type": "code",
   "execution_count": 246,
   "metadata": {},
   "outputs": [
    {
     "name": "stdout",
     "output_type": "stream",
     "text": [
      "This code are 4.8 times faster\n"
     ]
    }
   ],
   "source": [
    "get_change(result3, result1)"
   ]
  },
  {
   "cell_type": "markdown",
   "metadata": {},
   "source": [
    "# STRING FORMATTING"
   ]
  },
  {
   "cell_type": "code",
   "execution_count": 286,
   "metadata": {},
   "outputs": [
    {
     "name": "stdout",
     "output_type": "stream",
     "text": [
      "'Result is'  1813.73477 msec\n"
     ]
    }
   ],
   "source": [
    "ts = time.time()\n",
    "\n",
    "#------------------------------\n",
    "for x in range(10000000):\n",
    "    \"Hello []\".format(\"world\")\n",
    "#------------------------------\n",
    "\n",
    "\n",
    "te = time.time()\n",
    "\n",
    "result1 = te - ts\n",
    "print('%r  %2.5f msec' % (\"Result is\", result1*1000))"
   ]
  },
  {
   "cell_type": "code",
   "execution_count": 287,
   "metadata": {},
   "outputs": [
    {
     "name": "stdout",
     "output_type": "stream",
     "text": [
      "'Result is'  456.35724 msec\n"
     ]
    }
   ],
   "source": [
    "ts = time.time()\n",
    "\n",
    "#------------------------------\n",
    "for x in range(10000000):\n",
    "    \"Hello %s\" % \"World\"\n",
    "#------------------------------\n",
    "\n",
    "\n",
    "te = time.time()\n",
    "\n",
    "result2 = te - ts\n",
    "print('%r  %2.5f msec' % (\"Result is\", result2*1000))"
   ]
  },
  {
   "cell_type": "code",
   "execution_count": 288,
   "metadata": {},
   "outputs": [
    {
     "name": "stdout",
     "output_type": "stream",
     "text": [
      "This code are 4.0 times faster\n"
     ]
    }
   ],
   "source": [
    "get_change(result2, result1)"
   ]
  },
  {
   "cell_type": "code",
   "execution_count": 289,
   "metadata": {},
   "outputs": [
    {
     "name": "stdout",
     "output_type": "stream",
     "text": [
      "'Result is'  1987.97798 msec\n"
     ]
    }
   ],
   "source": [
    "ts = time.time()\n",
    "\n",
    "xx = [\"Hello\", \" \", \"World\"]\n",
    "#------------------------------\n",
    "for x in range(10000000):\n",
    "    \"\".join(xx)\n",
    "#------------------------------\n",
    "\n",
    "\n",
    "te = time.time()\n",
    "\n",
    "result3 = te - ts\n",
    "print('%r  %2.5f msec' % (\"Result is\", result3*1000))"
   ]
  },
  {
   "cell_type": "code",
   "execution_count": 290,
   "metadata": {},
   "outputs": [
    {
     "name": "stdout",
     "output_type": "stream",
     "text": [
      "This code are 0.9 times faster\n"
     ]
    }
   ],
   "source": [
    "get_change(result3, result1)"
   ]
  },
  {
   "cell_type": "code",
   "execution_count": 291,
   "metadata": {},
   "outputs": [
    {
     "name": "stdout",
     "output_type": "stream",
     "text": [
      "'Result is'  15.77687 msec\n"
     ]
    }
   ],
   "source": [
    "ts = time.time()\n",
    "\n",
    "word = \"world\"\n",
    "\n",
    "#------------------------------\n",
    "for x in range(100000):\n",
    "    f\"Hello {word}\"\n",
    "#------------------------------\n",
    "\n",
    "\n",
    "te = time.time()\n",
    "\n",
    "result4 = te - ts\n",
    "print('%r  %2.5f msec' % (\"Result is\", result4*1000))"
   ]
  },
  {
   "cell_type": "code",
   "execution_count": 292,
   "metadata": {},
   "outputs": [
    {
     "name": "stdout",
     "output_type": "stream",
     "text": [
      "This code are 0.9 times faster\n"
     ]
    }
   ],
   "source": [
    "get_change(result3, result1)"
   ]
  },
  {
   "cell_type": "code",
   "execution_count": 293,
   "metadata": {},
   "outputs": [
    {
     "name": "stdout",
     "output_type": "stream",
     "text": [
      "This code are 0.9 times faster\n"
     ]
    }
   ],
   "source": [
    "get_change(result3, result1)"
   ]
  },
  {
   "cell_type": "markdown",
   "metadata": {},
   "source": [
    "#  Intersection"
   ]
  },
  {
   "cell_type": "code",
   "execution_count": 294,
   "metadata": {},
   "outputs": [
    {
     "name": "stdout",
     "output_type": "stream",
     "text": [
      "'Result is'  160.84003 msec\n"
     ]
    }
   ],
   "source": [
    "A = random.sample(range(10005000), 10000)\n",
    "B = random.sample(range(10000), 1000)\n",
    "\n",
    "\n",
    "ts = time.time()\n",
    "\n",
    "#------------------------------\n",
    "unique_l = []\n",
    "for ind in A:\n",
    "    if ind not in B:\n",
    "        unique_l.append(ind)\n",
    "#------------------------------\n",
    "\n",
    "\n",
    "te = time.time()\n",
    "\n",
    "result0 = te - ts\n",
    "print('%r  %2.5f msec' % (\"Result is\", result0*1000))"
   ]
  },
  {
   "cell_type": "code",
   "execution_count": 295,
   "metadata": {},
   "outputs": [
    {
     "name": "stdout",
     "output_type": "stream",
     "text": [
      "'Result is'  1.37496 msec\n"
     ]
    }
   ],
   "source": [
    "A = random.sample(range(10005000), 10000)\n",
    "B = random.sample(range(10000), 1000)\n",
    "\n",
    "ts = time.time()\n",
    "\n",
    "#------------------------------\n",
    "set(A) - set(B)\n",
    "#------------------------------\n",
    "\n",
    "\n",
    "te = time.time()\n",
    "\n",
    "result2 = te - ts\n",
    "print('%r  %2.5f msec' % (\"Result is\", result2*1000))"
   ]
  },
  {
   "cell_type": "code",
   "execution_count": 296,
   "metadata": {},
   "outputs": [
    {
     "name": "stdout",
     "output_type": "stream",
     "text": [
      "This code are 117.0 times faster\n"
     ]
    }
   ],
   "source": [
    "get_change(result2, result0)"
   ]
  },
  {
   "cell_type": "code",
   "execution_count": 297,
   "metadata": {},
   "outputs": [
    {
     "name": "stdout",
     "output_type": "stream",
     "text": [
      "'Result is'  0.76699 msec\n"
     ]
    }
   ],
   "source": [
    "A = random.sample(range(10005000), 10000)\n",
    "B = random.sample(range(10000), 1000)\n",
    "\n",
    "ts = time.time()\n",
    "\n",
    "#------------------------------\n",
    "[(set(A).intersection(B))]\n",
    "#------------------------------\n",
    "\n",
    "\n",
    "te = time.time()\n",
    "\n",
    "result1 = te - ts\n",
    "print('%r  %2.5f msec' % (\"Result is\", result1*1000))"
   ]
  },
  {
   "cell_type": "code",
   "execution_count": 298,
   "metadata": {},
   "outputs": [
    {
     "name": "stdout",
     "output_type": "stream",
     "text": [
      "This code are 209.7 times faster\n"
     ]
    }
   ],
   "source": [
    "get_change(result1, result0)"
   ]
  },
  {
   "cell_type": "markdown",
   "metadata": {},
   "source": [
    "# Date parsing"
   ]
  },
  {
   "cell_type": "code",
   "execution_count": 300,
   "metadata": {},
   "outputs": [
    {
     "data": {
      "text/plain": [
       "['2017-07-02',\n",
       " '2017-02-21',\n",
       " '2017-08-16',\n",
       " '2017-01-15',\n",
       " '2017-06-24',\n",
       " '2017-03-26',\n",
       " '2017-09-22',\n",
       " '2017-10-12',\n",
       " '2017-07-08',\n",
       " '2017-08-15',\n",
       " '2017-10-15',\n",
       " '2017-02-28',\n",
       " '2017-02-04',\n",
       " '2017-06-29',\n",
       " '2017-08-16',\n",
       " '2017-09-19',\n",
       " '2017-09-06',\n",
       " '2017-03-11',\n",
       " '2017-05-12',\n",
       " '2017-06-25',\n",
       " '2017-03-11',\n",
       " '2017-03-06',\n",
       " '2017-10-11',\n",
       " '2017-08-20',\n",
       " '2017-09-10',\n",
       " '2017-04-24',\n",
       " '2017-09-09',\n",
       " '2017-01-25',\n",
       " '2017-07-29',\n",
       " '2017-04-14',\n",
       " '2017-02-01',\n",
       " '2017-06-03',\n",
       " '2017-02-16',\n",
       " '2017-10-10',\n",
       " '2017-09-15',\n",
       " '2017-04-12',\n",
       " '2017-04-05',\n",
       " '2017-03-10',\n",
       " '2017-09-10',\n",
       " '2017-05-11',\n",
       " '2017-04-02',\n",
       " '2017-08-26',\n",
       " '2017-09-25',\n",
       " '2017-09-28',\n",
       " '2017-06-01',\n",
       " '2017-05-09',\n",
       " '2017-02-19',\n",
       " '2017-05-17',\n",
       " '2017-03-24',\n",
       " '2017-03-21',\n",
       " '2017-06-03',\n",
       " '2017-08-25',\n",
       " '2017-01-27',\n",
       " '2017-10-19',\n",
       " '2017-06-23',\n",
       " '2017-01-10',\n",
       " '2017-09-03',\n",
       " '2017-07-27',\n",
       " '2017-07-26',\n",
       " '2017-03-02',\n",
       " '2017-04-15',\n",
       " '2017-03-17',\n",
       " '2017-07-14',\n",
       " '2017-09-25',\n",
       " '2017-08-04',\n",
       " '2017-06-28',\n",
       " '2017-05-15',\n",
       " '2017-07-09',\n",
       " '2017-06-29',\n",
       " '2017-03-26',\n",
       " '2017-04-20',\n",
       " '2017-01-17',\n",
       " '2017-04-12',\n",
       " '2017-02-05',\n",
       " '2017-09-11',\n",
       " '2017-10-11',\n",
       " '2017-08-10',\n",
       " '2017-09-09',\n",
       " '2017-05-17',\n",
       " '2017-07-13',\n",
       " '2017-03-17',\n",
       " '2017-02-11',\n",
       " '2017-03-06',\n",
       " '2017-03-24',\n",
       " '2017-01-16',\n",
       " '2017-09-19',\n",
       " '2017-07-24',\n",
       " '2017-02-02',\n",
       " '2017-06-22',\n",
       " '2017-01-08',\n",
       " '2017-06-03',\n",
       " '2017-10-10',\n",
       " '2017-09-30',\n",
       " '2017-02-15',\n",
       " '2017-09-17',\n",
       " '2017-06-10',\n",
       " '2017-07-11',\n",
       " '2017-02-18',\n",
       " '2017-09-27',\n",
       " '2017-05-03',\n",
       " '2017-07-19',\n",
       " '2017-07-21',\n",
       " '2017-08-16',\n",
       " '2017-04-22',\n",
       " '2017-10-16',\n",
       " '2017-09-06',\n",
       " '2017-03-26',\n",
       " '2017-06-09',\n",
       " '2017-02-12',\n",
       " '2017-02-26',\n",
       " '2017-06-23',\n",
       " '2017-04-11',\n",
       " '2017-03-22',\n",
       " '2017-08-13',\n",
       " '2017-07-10',\n",
       " '2017-03-28',\n",
       " '2017-06-23',\n",
       " '2017-07-11',\n",
       " '2017-01-17',\n",
       " '2017-06-01',\n",
       " '2017-08-03',\n",
       " '2017-01-24',\n",
       " '2017-04-11',\n",
       " '2017-04-10',\n",
       " '2017-04-11',\n",
       " '2017-05-18',\n",
       " '2017-05-10',\n",
       " '2017-02-22',\n",
       " '2017-07-19',\n",
       " '2017-06-06',\n",
       " '2017-04-28',\n",
       " '2017-04-04',\n",
       " '2017-09-11',\n",
       " '2017-09-27',\n",
       " '2017-06-28',\n",
       " '2017-01-18',\n",
       " '2017-04-17',\n",
       " '2017-05-29',\n",
       " '2017-06-04',\n",
       " '2017-01-25',\n",
       " '2017-09-14',\n",
       " '2017-10-01',\n",
       " '2017-09-19',\n",
       " '2017-07-15',\n",
       " '2017-05-06',\n",
       " '2017-01-23',\n",
       " '2017-08-26',\n",
       " '2017-07-07',\n",
       " '2017-04-22',\n",
       " '2017-08-05',\n",
       " '2017-05-14',\n",
       " '2017-04-21',\n",
       " '2017-08-22',\n",
       " '2017-03-27',\n",
       " '2017-05-02',\n",
       " '2017-04-11',\n",
       " '2017-04-24',\n",
       " '2017-01-31',\n",
       " '2017-06-06',\n",
       " '2017-02-08',\n",
       " '2017-04-30',\n",
       " '2017-08-17',\n",
       " '2017-04-30',\n",
       " '2017-09-06',\n",
       " '2017-08-23',\n",
       " '2017-05-01',\n",
       " '2017-02-04',\n",
       " '2017-05-23',\n",
       " '2017-06-27',\n",
       " '2017-09-20',\n",
       " '2017-09-12',\n",
       " '2017-06-23',\n",
       " '2017-01-30',\n",
       " '2017-07-24',\n",
       " '2017-07-21',\n",
       " '2017-07-31',\n",
       " '2017-06-26',\n",
       " '2017-07-18',\n",
       " '2017-03-28',\n",
       " '2017-04-26',\n",
       " '2017-03-24',\n",
       " '2017-04-09',\n",
       " '2017-03-29',\n",
       " '2017-08-07',\n",
       " '2017-10-16',\n",
       " '2017-05-27',\n",
       " '2017-06-25',\n",
       " '2017-04-26',\n",
       " '2017-06-21',\n",
       " '2017-06-26',\n",
       " '2017-08-24',\n",
       " '2017-08-29',\n",
       " '2017-02-09',\n",
       " '2017-03-12',\n",
       " '2017-07-22',\n",
       " '2017-09-04',\n",
       " '2017-05-09',\n",
       " '2017-08-25',\n",
       " '2017-03-05',\n",
       " '2017-09-19',\n",
       " '2017-09-02',\n",
       " '2017-03-31',\n",
       " '2017-04-21',\n",
       " '2017-05-05',\n",
       " '2017-10-10',\n",
       " '2017-04-28',\n",
       " '2017-04-14',\n",
       " '2017-09-02',\n",
       " '2017-01-01',\n",
       " '2017-02-06',\n",
       " '2017-09-27',\n",
       " '2017-04-18',\n",
       " '2017-07-01',\n",
       " '2017-08-19',\n",
       " '2017-09-24',\n",
       " '2017-04-08',\n",
       " '2017-04-26',\n",
       " '2017-01-22',\n",
       " '2017-02-03',\n",
       " '2017-06-06',\n",
       " '2017-03-20',\n",
       " '2017-08-03',\n",
       " '2017-06-23',\n",
       " '2017-06-28',\n",
       " '2017-09-29',\n",
       " '2017-07-01',\n",
       " '2017-03-16',\n",
       " '2017-01-10',\n",
       " '2017-04-18',\n",
       " '2017-06-23',\n",
       " '2017-10-06',\n",
       " '2017-01-10',\n",
       " '2017-02-28',\n",
       " '2017-02-06',\n",
       " '2017-01-03',\n",
       " '2017-04-11',\n",
       " '2017-03-30',\n",
       " '2017-01-29',\n",
       " '2017-08-14',\n",
       " '2017-07-30',\n",
       " '2017-02-08',\n",
       " '2017-07-29',\n",
       " '2017-06-26',\n",
       " '2017-10-03',\n",
       " '2017-06-06',\n",
       " '2017-01-03',\n",
       " '2017-03-31',\n",
       " '2017-04-08',\n",
       " '2017-06-24',\n",
       " '2017-03-09',\n",
       " '2017-06-20',\n",
       " '2017-07-27',\n",
       " '2017-09-05',\n",
       " '2017-07-23',\n",
       " '2017-10-18',\n",
       " '2017-01-14',\n",
       " '2017-04-04',\n",
       " '2017-09-05',\n",
       " '2017-09-13',\n",
       " '2017-10-01',\n",
       " '2017-10-10',\n",
       " '2017-01-12',\n",
       " '2017-08-04',\n",
       " '2017-03-30',\n",
       " '2017-03-07',\n",
       " '2017-06-27',\n",
       " '2017-05-30',\n",
       " '2017-04-14',\n",
       " '2017-10-10',\n",
       " '2017-01-07',\n",
       " '2017-06-28',\n",
       " '2017-02-19',\n",
       " '2017-06-08',\n",
       " '2017-01-03',\n",
       " '2017-04-16',\n",
       " '2017-02-17',\n",
       " '2017-01-31',\n",
       " '2017-07-05',\n",
       " '2017-03-12',\n",
       " '2017-02-05',\n",
       " '2017-08-21',\n",
       " '2017-01-30',\n",
       " '2017-07-30',\n",
       " '2017-01-17',\n",
       " '2017-05-10',\n",
       " '2017-10-01',\n",
       " '2017-01-28',\n",
       " '2017-05-03',\n",
       " '2017-08-01',\n",
       " '2017-03-13',\n",
       " '2017-04-21',\n",
       " '2017-10-20',\n",
       " '2017-03-28',\n",
       " '2017-10-22',\n",
       " '2017-06-04',\n",
       " '2017-04-08',\n",
       " '2017-09-20',\n",
       " '2017-03-01',\n",
       " '2017-06-04',\n",
       " '2017-02-01',\n",
       " '2017-07-11',\n",
       " '2017-07-03',\n",
       " '2017-01-10',\n",
       " '2017-08-02',\n",
       " '2017-09-06',\n",
       " '2017-01-27',\n",
       " '2017-03-20',\n",
       " '2017-02-20',\n",
       " '2017-01-30',\n",
       " '2017-06-12',\n",
       " '2017-03-12',\n",
       " '2017-09-12',\n",
       " '2017-08-11',\n",
       " '2017-07-06',\n",
       " '2017-03-20',\n",
       " '2017-01-14',\n",
       " '2017-01-19',\n",
       " '2017-07-31',\n",
       " '2017-02-17',\n",
       " '2017-01-17',\n",
       " '2017-01-18',\n",
       " '2017-05-03',\n",
       " '2017-02-27',\n",
       " '2017-10-13',\n",
       " '2017-05-07',\n",
       " '2017-03-13',\n",
       " '2017-09-28',\n",
       " '2017-01-12',\n",
       " '2017-08-11',\n",
       " '2017-04-10',\n",
       " '2017-05-07',\n",
       " '2017-09-07',\n",
       " '2017-05-24',\n",
       " '2017-08-19',\n",
       " '2017-09-13',\n",
       " '2017-04-27',\n",
       " '2017-08-12',\n",
       " '2017-01-27',\n",
       " '2017-03-18',\n",
       " '2017-05-02',\n",
       " '2017-05-04',\n",
       " '2017-03-08',\n",
       " '2017-07-05',\n",
       " '2017-05-24',\n",
       " '2017-05-01',\n",
       " '2017-05-18',\n",
       " '2017-01-05',\n",
       " '2017-06-20',\n",
       " '2017-09-27',\n",
       " '2017-07-12',\n",
       " '2017-04-25',\n",
       " '2017-01-07',\n",
       " '2017-08-10',\n",
       " '2017-08-24',\n",
       " '2017-04-18',\n",
       " '2017-06-01',\n",
       " '2017-08-06',\n",
       " '2017-03-13',\n",
       " '2017-10-20',\n",
       " '2017-09-13',\n",
       " '2017-06-09',\n",
       " '2017-10-16',\n",
       " '2017-05-03',\n",
       " '2017-02-09',\n",
       " '2017-01-16',\n",
       " '2017-09-11',\n",
       " '2017-09-09',\n",
       " '2017-04-19',\n",
       " '2017-07-29',\n",
       " '2017-02-18',\n",
       " '2017-02-16',\n",
       " '2017-05-05',\n",
       " '2017-02-26',\n",
       " '2017-02-28',\n",
       " '2017-08-22',\n",
       " '2017-08-05',\n",
       " '2017-04-19',\n",
       " '2017-07-23',\n",
       " '2017-01-12',\n",
       " '2017-09-16',\n",
       " '2017-08-04',\n",
       " '2017-06-10',\n",
       " '2017-09-11',\n",
       " '2017-07-16',\n",
       " '2017-04-12',\n",
       " '2017-04-01',\n",
       " '2017-04-06',\n",
       " '2017-07-11',\n",
       " '2017-07-10',\n",
       " '2017-07-08',\n",
       " '2017-06-22',\n",
       " '2017-07-21',\n",
       " '2017-09-05',\n",
       " '2017-02-18',\n",
       " '2017-03-23',\n",
       " '2017-04-08',\n",
       " '2017-02-25',\n",
       " '2017-03-21',\n",
       " '2017-05-08',\n",
       " '2017-06-19',\n",
       " '2017-09-24',\n",
       " '2017-03-31',\n",
       " '2017-10-02',\n",
       " '2017-07-22',\n",
       " '2017-07-04',\n",
       " '2017-07-25',\n",
       " '2017-02-06',\n",
       " '2017-04-17',\n",
       " '2017-07-28',\n",
       " '2017-05-16',\n",
       " '2017-08-01',\n",
       " '2017-03-22',\n",
       " '2017-10-18',\n",
       " '2017-04-02',\n",
       " '2017-05-05',\n",
       " '2017-09-09',\n",
       " '2017-08-30',\n",
       " '2017-08-11',\n",
       " '2017-01-25',\n",
       " '2017-08-30',\n",
       " '2017-10-14',\n",
       " '2017-03-24',\n",
       " '2017-10-05',\n",
       " '2017-03-31',\n",
       " '2017-07-04',\n",
       " '2017-05-11',\n",
       " '2017-07-06',\n",
       " '2017-07-19',\n",
       " '2017-05-29',\n",
       " '2017-09-05',\n",
       " '2017-06-13',\n",
       " '2017-01-19',\n",
       " '2017-06-19',\n",
       " '2017-04-21',\n",
       " '2017-02-21',\n",
       " '2017-02-13',\n",
       " '2017-04-04',\n",
       " '2017-01-14',\n",
       " '2017-07-25',\n",
       " '2017-04-12',\n",
       " '2017-10-10',\n",
       " '2017-03-23',\n",
       " '2017-03-18',\n",
       " '2017-03-28',\n",
       " '2017-02-28',\n",
       " '2017-09-02',\n",
       " '2017-05-15',\n",
       " '2017-02-24',\n",
       " '2017-04-09',\n",
       " '2017-06-12',\n",
       " '2017-10-15',\n",
       " '2017-10-23',\n",
       " '2017-01-23',\n",
       " '2017-05-11',\n",
       " '2017-01-29',\n",
       " '2017-04-17',\n",
       " '2017-01-07',\n",
       " '2017-07-10',\n",
       " '2017-06-17',\n",
       " '2017-06-15',\n",
       " '2017-06-20',\n",
       " '2017-02-10',\n",
       " '2017-09-25',\n",
       " '2017-05-25',\n",
       " '2017-07-04',\n",
       " '2017-04-17',\n",
       " '2017-06-21',\n",
       " '2017-06-18',\n",
       " '2017-02-26',\n",
       " '2017-03-15',\n",
       " '2017-09-21',\n",
       " '2017-01-02',\n",
       " '2017-06-19',\n",
       " '2017-04-10',\n",
       " '2017-07-26',\n",
       " '2017-04-07',\n",
       " '2017-03-14',\n",
       " '2017-05-22',\n",
       " '2017-07-18',\n",
       " '2017-05-23',\n",
       " '2017-08-29',\n",
       " '2017-05-27',\n",
       " '2017-04-12',\n",
       " '2017-01-06',\n",
       " '2017-05-30',\n",
       " '2017-05-25',\n",
       " '2017-01-29',\n",
       " '2017-05-31',\n",
       " '2017-08-26',\n",
       " '2017-09-15',\n",
       " '2017-10-20',\n",
       " '2017-08-25',\n",
       " '2017-09-23',\n",
       " '2017-09-07',\n",
       " '2017-07-29',\n",
       " '2017-04-10',\n",
       " '2017-02-13',\n",
       " '2017-08-03',\n",
       " '2017-03-11',\n",
       " '2017-08-21',\n",
       " '2017-05-06',\n",
       " '2017-09-24',\n",
       " '2017-03-19',\n",
       " '2017-03-30',\n",
       " '2017-06-12',\n",
       " '2017-10-07',\n",
       " '2017-10-13',\n",
       " '2017-05-15',\n",
       " '2017-06-19',\n",
       " '2017-02-16',\n",
       " '2017-06-06',\n",
       " '2017-10-21',\n",
       " '2017-03-19',\n",
       " '2017-03-07',\n",
       " '2017-10-10',\n",
       " '2017-09-15',\n",
       " '2017-05-03',\n",
       " '2017-05-23',\n",
       " '2017-07-09',\n",
       " '2017-09-05',\n",
       " '2017-03-09',\n",
       " '2017-10-02',\n",
       " '2017-08-08',\n",
       " '2017-09-03',\n",
       " '2017-04-15',\n",
       " '2017-03-11',\n",
       " '2017-07-04',\n",
       " '2017-01-29',\n",
       " '2017-07-03',\n",
       " '2017-07-15',\n",
       " '2017-04-10',\n",
       " '2017-04-30',\n",
       " '2017-05-20',\n",
       " '2017-06-07',\n",
       " '2017-05-03',\n",
       " '2017-01-09',\n",
       " '2017-10-20',\n",
       " '2017-10-15',\n",
       " '2017-06-23',\n",
       " '2017-01-15',\n",
       " '2017-03-05',\n",
       " '2017-09-14',\n",
       " '2017-07-25',\n",
       " '2017-06-03',\n",
       " '2017-01-13',\n",
       " '2017-09-07',\n",
       " '2017-09-05',\n",
       " '2017-06-24',\n",
       " '2017-01-25',\n",
       " '2017-04-07',\n",
       " '2017-10-05',\n",
       " '2017-04-23',\n",
       " '2017-02-23',\n",
       " '2017-07-13',\n",
       " '2017-01-05',\n",
       " '2017-04-02',\n",
       " '2017-06-22',\n",
       " '2017-09-18',\n",
       " '2017-02-05',\n",
       " '2017-07-08',\n",
       " '2017-04-04',\n",
       " '2017-07-22',\n",
       " '2017-08-22',\n",
       " '2017-02-25',\n",
       " '2017-02-24',\n",
       " '2017-09-13',\n",
       " '2017-01-13',\n",
       " '2017-06-04',\n",
       " '2017-10-19',\n",
       " '2017-07-06',\n",
       " '2017-05-19',\n",
       " '2017-07-26',\n",
       " '2017-01-20',\n",
       " '2017-08-14',\n",
       " '2017-08-16',\n",
       " '2017-09-09',\n",
       " '2017-08-27',\n",
       " '2017-03-01',\n",
       " '2017-09-02',\n",
       " '2017-07-11',\n",
       " '2017-07-11',\n",
       " '2017-10-17',\n",
       " '2017-08-14',\n",
       " '2017-10-17',\n",
       " '2017-05-25',\n",
       " '2017-03-02',\n",
       " '2017-09-28',\n",
       " '2017-07-12',\n",
       " '2017-02-27',\n",
       " '2017-09-30',\n",
       " '2017-02-12',\n",
       " '2017-08-01',\n",
       " '2017-09-05',\n",
       " '2017-10-22',\n",
       " '2017-07-11',\n",
       " '2017-04-27',\n",
       " '2017-10-07',\n",
       " '2017-02-11',\n",
       " '2017-04-21',\n",
       " '2017-02-21',\n",
       " '2017-07-18',\n",
       " '2017-05-06',\n",
       " '2017-05-02',\n",
       " '2017-03-28',\n",
       " '2017-09-26',\n",
       " '2017-06-06',\n",
       " '2017-02-20',\n",
       " '2017-05-07',\n",
       " '2017-01-06',\n",
       " '2017-07-31',\n",
       " '2017-02-27',\n",
       " '2017-06-05',\n",
       " '2017-05-07',\n",
       " '2017-01-06',\n",
       " '2017-03-27',\n",
       " '2017-03-05',\n",
       " '2017-06-26',\n",
       " '2017-04-29',\n",
       " '2017-03-07',\n",
       " '2017-05-03',\n",
       " '2017-08-28',\n",
       " '2017-06-02',\n",
       " '2017-02-05',\n",
       " '2017-07-10',\n",
       " '2017-02-16',\n",
       " '2017-09-15',\n",
       " '2017-04-02',\n",
       " '2017-07-13',\n",
       " '2017-05-08',\n",
       " '2017-04-29',\n",
       " '2017-01-14',\n",
       " '2017-06-01',\n",
       " '2017-09-27',\n",
       " '2017-09-08',\n",
       " '2017-09-20',\n",
       " '2017-06-20',\n",
       " '2017-08-05',\n",
       " '2017-05-21',\n",
       " '2017-04-11',\n",
       " '2017-07-13',\n",
       " '2017-01-08',\n",
       " '2017-02-04',\n",
       " '2017-03-01',\n",
       " '2017-07-19',\n",
       " '2017-03-17',\n",
       " '2017-09-09',\n",
       " '2017-05-24',\n",
       " '2017-09-13',\n",
       " '2017-09-04',\n",
       " '2017-06-22',\n",
       " '2017-09-04',\n",
       " '2017-03-11',\n",
       " '2017-08-09',\n",
       " '2017-05-08',\n",
       " '2017-09-13',\n",
       " '2017-06-20',\n",
       " '2017-08-29',\n",
       " '2017-06-01',\n",
       " '2017-01-13',\n",
       " '2017-06-04',\n",
       " '2017-05-03',\n",
       " '2017-03-25',\n",
       " '2017-06-07',\n",
       " '2017-10-06',\n",
       " '2017-01-28',\n",
       " '2017-06-23',\n",
       " '2017-03-20',\n",
       " '2017-06-17',\n",
       " '2017-04-01',\n",
       " '2017-05-15',\n",
       " '2017-06-30',\n",
       " '2017-08-11',\n",
       " '2017-04-07',\n",
       " '2017-04-02',\n",
       " '2017-01-29',\n",
       " '2017-07-17',\n",
       " '2017-04-20',\n",
       " '2017-08-08',\n",
       " '2017-01-27',\n",
       " '2017-08-21',\n",
       " '2017-02-09',\n",
       " '2017-03-14',\n",
       " '2017-09-08',\n",
       " '2017-04-22',\n",
       " '2017-02-04',\n",
       " '2017-04-25',\n",
       " '2017-05-05',\n",
       " '2017-05-29',\n",
       " '2017-03-18',\n",
       " '2017-09-20',\n",
       " '2017-05-17',\n",
       " '2017-03-10',\n",
       " '2017-08-03',\n",
       " '2017-01-12',\n",
       " '2017-10-07',\n",
       " '2017-06-14',\n",
       " '2017-01-03',\n",
       " '2017-02-26',\n",
       " '2017-05-19',\n",
       " '2017-04-06',\n",
       " '2017-02-19',\n",
       " '2017-07-04',\n",
       " '2017-02-03',\n",
       " '2017-02-11',\n",
       " '2017-04-22',\n",
       " '2017-08-27',\n",
       " '2017-05-23',\n",
       " '2017-01-05',\n",
       " '2017-09-23',\n",
       " '2017-03-31',\n",
       " '2017-10-18',\n",
       " '2017-03-25',\n",
       " '2017-04-06',\n",
       " '2017-01-31',\n",
       " '2017-08-10',\n",
       " '2017-01-31',\n",
       " '2017-06-09',\n",
       " '2017-03-17',\n",
       " '2017-05-07',\n",
       " '2017-01-28',\n",
       " '2017-10-15',\n",
       " '2017-05-29',\n",
       " '2017-07-31',\n",
       " '2017-01-04',\n",
       " '2017-06-24',\n",
       " '2017-02-17',\n",
       " '2017-04-26',\n",
       " '2017-06-18',\n",
       " '2017-06-27',\n",
       " '2017-02-13',\n",
       " '2017-02-23',\n",
       " '2017-02-17',\n",
       " '2017-10-23',\n",
       " '2017-07-13',\n",
       " '2017-07-21',\n",
       " '2017-09-23',\n",
       " '2017-10-02',\n",
       " '2017-05-07',\n",
       " '2017-05-10',\n",
       " '2017-06-16',\n",
       " '2017-04-04',\n",
       " '2017-05-07',\n",
       " '2017-04-22',\n",
       " '2017-09-03',\n",
       " '2017-06-07',\n",
       " '2017-01-11',\n",
       " '2017-03-12',\n",
       " '2017-01-13',\n",
       " '2017-08-08',\n",
       " '2017-09-07',\n",
       " '2017-04-11',\n",
       " '2017-01-01',\n",
       " '2017-08-10',\n",
       " '2017-08-15',\n",
       " '2017-04-27',\n",
       " '2017-03-21',\n",
       " '2017-01-09',\n",
       " '2017-05-22',\n",
       " '2017-07-30',\n",
       " '2017-09-27',\n",
       " '2017-01-23',\n",
       " '2017-04-25',\n",
       " '2017-02-06',\n",
       " '2017-03-30',\n",
       " '2017-01-25',\n",
       " '2017-07-18',\n",
       " '2017-04-05',\n",
       " '2017-03-29',\n",
       " '2017-01-08',\n",
       " '2017-04-08',\n",
       " '2017-06-12',\n",
       " '2017-01-06',\n",
       " '2017-07-09',\n",
       " '2017-08-24',\n",
       " '2017-08-27',\n",
       " '2017-02-07',\n",
       " '2017-04-25',\n",
       " '2017-05-26',\n",
       " '2017-10-23',\n",
       " '2017-07-04',\n",
       " '2017-07-09',\n",
       " '2017-01-09',\n",
       " '2017-01-01',\n",
       " '2017-09-25',\n",
       " '2017-03-04',\n",
       " '2017-01-16',\n",
       " '2017-07-14',\n",
       " '2017-04-13',\n",
       " '2017-06-13',\n",
       " '2017-05-28',\n",
       " '2017-06-27',\n",
       " '2017-02-07',\n",
       " '2017-09-10',\n",
       " '2017-04-29',\n",
       " '2017-01-25',\n",
       " '2017-09-01',\n",
       " '2017-07-13',\n",
       " '2017-10-17',\n",
       " '2017-08-17',\n",
       " '2017-04-28',\n",
       " '2017-05-06',\n",
       " '2017-07-17',\n",
       " '2017-04-10',\n",
       " '2017-07-29',\n",
       " '2017-09-04',\n",
       " '2017-07-26',\n",
       " '2017-03-31',\n",
       " '2017-03-12',\n",
       " '2017-04-23',\n",
       " '2017-02-06',\n",
       " '2017-09-30',\n",
       " '2017-06-18',\n",
       " '2017-02-23',\n",
       " '2017-02-11',\n",
       " '2017-10-21',\n",
       " '2017-10-19',\n",
       " '2017-01-16',\n",
       " '2017-02-18',\n",
       " '2017-08-02',\n",
       " '2017-05-07',\n",
       " '2017-01-31',\n",
       " '2017-08-04',\n",
       " '2017-01-14',\n",
       " '2017-01-02',\n",
       " '2017-04-20',\n",
       " '2017-04-18',\n",
       " '2017-08-02',\n",
       " '2017-10-01',\n",
       " '2017-03-02',\n",
       " '2017-05-09',\n",
       " '2017-08-12',\n",
       " '2017-01-30',\n",
       " '2017-04-13',\n",
       " '2017-02-24',\n",
       " '2017-03-23',\n",
       " '2017-02-22',\n",
       " '2017-07-10',\n",
       " '2017-08-17',\n",
       " '2017-07-24',\n",
       " '2017-01-11',\n",
       " '2017-06-15',\n",
       " '2017-03-16',\n",
       " '2017-06-28',\n",
       " '2017-01-07',\n",
       " '2017-08-03',\n",
       " '2017-06-29',\n",
       " '2017-07-23',\n",
       " '2017-03-15',\n",
       " '2017-06-22',\n",
       " '2017-02-03',\n",
       " '2017-03-06',\n",
       " '2017-06-21',\n",
       " '2017-02-11',\n",
       " '2017-02-27',\n",
       " '2017-04-11',\n",
       " '2017-10-21',\n",
       " '2017-04-28',\n",
       " '2017-04-03',\n",
       " '2017-10-15',\n",
       " '2017-08-21',\n",
       " '2017-01-11',\n",
       " '2017-01-22',\n",
       " '2017-07-10',\n",
       " '2017-06-21',\n",
       " '2017-07-30',\n",
       " '2017-09-21',\n",
       " '2017-02-22',\n",
       " '2017-03-02',\n",
       " '2017-05-10',\n",
       " '2017-04-21',\n",
       " '2017-02-04',\n",
       " '2017-07-14',\n",
       " '2017-05-14',\n",
       " '2017-09-18',\n",
       " '2017-09-03',\n",
       " '2017-07-22',\n",
       " '2017-07-03',\n",
       " '2017-01-11',\n",
       " '2017-05-25',\n",
       " '2017-10-02',\n",
       " '2017-09-12',\n",
       " '2017-01-02',\n",
       " '2017-06-01',\n",
       " '2017-05-07',\n",
       " '2017-05-18',\n",
       " '2017-07-16',\n",
       " '2017-03-20',\n",
       " '2017-02-22',\n",
       " '2017-02-03',\n",
       " '2017-03-01',\n",
       " '2017-08-01',\n",
       " '2017-07-02',\n",
       " '2017-08-10',\n",
       " '2017-03-05',\n",
       " '2017-01-27',\n",
       " '2017-08-09',\n",
       " '2017-10-20',\n",
       " '2017-06-21',\n",
       " '2017-08-26',\n",
       " '2017-03-23',\n",
       " '2017-08-03',\n",
       " '2017-07-24',\n",
       " '2017-08-19',\n",
       " '2017-05-20',\n",
       " '2017-09-29',\n",
       " '2017-04-04',\n",
       " '2017-09-27',\n",
       " '2017-04-10',\n",
       " '2017-10-20',\n",
       " '2017-07-27',\n",
       " '2017-03-31',\n",
       " '2017-06-10',\n",
       " '2017-01-12',\n",
       " '2017-03-08',\n",
       " '2017-05-25',\n",
       " '2017-09-23',\n",
       " '2017-06-20',\n",
       " '2017-08-12',\n",
       " '2017-03-17',\n",
       " '2017-04-02',\n",
       " '2017-08-19',\n",
       " '2017-01-22',\n",
       " '2017-04-04',\n",
       " '2017-02-10',\n",
       " '2017-07-06',\n",
       " '2017-05-03',\n",
       " '2017-05-27',\n",
       " '2017-07-09',\n",
       " '2017-03-23',\n",
       " '2017-09-23',\n",
       " '2017-08-10',\n",
       " '2017-02-05',\n",
       " '2017-03-29',\n",
       " '2017-03-04',\n",
       " '2017-08-23',\n",
       " '2017-02-26',\n",
       " '2017-01-14',\n",
       " '2017-04-15',\n",
       " '2017-08-01',\n",
       " '2017-04-23',\n",
       " '2017-09-24',\n",
       " '2017-01-17',\n",
       " '2017-01-21',\n",
       " '2017-05-20',\n",
       " '2017-01-10',\n",
       " '2017-10-10',\n",
       " '2017-04-25',\n",
       " '2017-06-13',\n",
       " '2017-06-11',\n",
       " '2017-04-06',\n",
       " '2017-04-23',\n",
       " '2017-02-22',\n",
       " '2017-07-05',\n",
       " '2017-03-18',\n",
       " '2017-07-27',\n",
       " '2017-08-01',\n",
       " '2017-02-15',\n",
       " '2017-01-21',\n",
       " '2017-02-18',\n",
       " '2017-07-05',\n",
       " '2017-04-09',\n",
       " '2017-03-18',\n",
       " '2017-09-12',\n",
       " '2017-06-14',\n",
       " '2017-06-22',\n",
       " '2017-01-26',\n",
       " '2017-08-20',\n",
       " '2017-08-03',\n",
       " '2017-04-14',\n",
       " '2017-03-31',\n",
       " '2017-04-23',\n",
       " '2017-01-30',\n",
       " '2017-03-08',\n",
       " '2017-05-05',\n",
       " '2017-08-02',\n",
       " '2017-03-02',\n",
       " '2017-06-14',\n",
       " '2017-03-25',\n",
       " '2017-09-15',\n",
       " '2017-08-11',\n",
       " '2017-03-12',\n",
       " '2017-05-21',\n",
       " '2017-06-30',\n",
       " '2017-09-09',\n",
       " '2017-02-21',\n",
       " '2017-04-25',\n",
       " '2017-04-13',\n",
       " '2017-04-05',\n",
       " '2017-08-12',\n",
       " '2017-06-30',\n",
       " '2017-08-24',\n",
       " '2017-09-30',\n",
       " '2017-06-04',\n",
       " '2017-09-24',\n",
       " '2017-08-10',\n",
       " '2017-08-11',\n",
       " '2017-01-06',\n",
       " '2017-05-11',\n",
       " '2017-06-14',\n",
       " '2017-01-04',\n",
       " ...]"
      ]
     },
     "execution_count": 300,
     "metadata": {},
     "output_type": "execute_result"
    }
   ],
   "source": [
    "from datetime import date\n",
    "import random\n",
    "\n",
    "start_date = date.today().replace(day=1, month=1).toordinal()\n",
    "end_date = date.today().toordinal()\n",
    "random_day = date.fromordinal(random.randint(start_date, end_date))\n",
    "\n",
    "dates_string = [str(date.fromordinal(random.randint(start_date, end_date))) for _ in range(10000)]\n",
    "dates_string"
   ]
  },
  {
   "cell_type": "code",
   "execution_count": 301,
   "metadata": {},
   "outputs": [
    {
     "name": "stdout",
     "output_type": "stream",
     "text": [
      "'Result is'  555.57299 msec\n"
     ]
    }
   ],
   "source": [
    "from dateutil import parser\n",
    "ts = time.time()\n",
    "\n",
    "#------------------------------\n",
    "for date in dates_string:\n",
    "    parser.parse(date)\n",
    "#------------------------------\n",
    "\n",
    "\n",
    "te = time.time()\n",
    "\n",
    "result0 = te - ts\n",
    "print('%r  %2.5f msec' % (\"Result is\", result0*1000))"
   ]
  },
  {
   "cell_type": "code",
   "execution_count": 302,
   "metadata": {},
   "outputs": [
    {
     "name": "stdout",
     "output_type": "stream",
     "text": [
      "'Result is'  116.58978 msec\n"
     ]
    }
   ],
   "source": [
    "import datetime\n",
    "ts = time.time()\n",
    "\n",
    "#------------------------------\n",
    "for date in dates_string:\n",
    "    datetime.datetime.strptime(date, '%Y-%m-%d')\n",
    "#------------------------------\n",
    "\n",
    "\n",
    "te = time.time()\n",
    "\n",
    "result1 = te - ts\n",
    "print('%r  %2.5f msec' % (\"Result is\", result1*1000))"
   ]
  },
  {
   "cell_type": "code",
   "execution_count": 303,
   "metadata": {},
   "outputs": [
    {
     "name": "stdout",
     "output_type": "stream",
     "text": [
      "This code are 4.8 times faster\n"
     ]
    }
   ],
   "source": [
    "get_change(result1, result0)"
   ]
  },
  {
   "cell_type": "code",
   "execution_count": null,
   "metadata": {
    "collapsed": true
   },
   "outputs": [],
   "source": []
  }
 ],
 "metadata": {
  "kernelspec": {
   "display_name": "Python 3",
   "language": "python",
   "name": "python3"
  },
  "language_info": {
   "codemirror_mode": {
    "name": "ipython",
    "version": 3
   },
   "file_extension": ".py",
   "mimetype": "text/x-python",
   "name": "python",
   "nbconvert_exporter": "python",
   "pygments_lexer": "ipython3",
   "version": "3.6.2"
  }
 },
 "nbformat": 4,
 "nbformat_minor": 2
}
